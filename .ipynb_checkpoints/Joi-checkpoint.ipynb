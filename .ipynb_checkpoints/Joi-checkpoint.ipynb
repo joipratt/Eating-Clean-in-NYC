{
 "cells": [
  {
   "cell_type": "code",
   "execution_count": null,
   "metadata": {},
   "outputs": [],
   "source": [
    "import pandas as pd\n",
    "\n",
    "# File to Load (Remember to Change These)\n",
    "restaurant_data = \"DOHMH_New_York_City_Restaurant_Inspection_Results.csv\"\n",
    "rat_data = \"Rat_Sightings.csv\"\n",
    "\n",
    "restaurant_data = pd.read_csv(restaurant_data)\n",
    "rat_data = pd.read_csv(rat_data)\n",
    "\n",
    "restaurant_data.head()"
   ]
  },
  {
   "cell_type": "code",
   "execution_count": null,
   "metadata": {},
   "outputs": [],
   "source": [
    "\n",
    "restaurant_data_1 = restaurant_data.loc[restaurant_data[\"CRITICAL FLAG\"] == \"Critical\",:]\n",
    "# critical_violations_count = restaurant_data_1.groupby(restaurant_data_1[\"CAMIS\"]).count()[\"CRITICAL FLAG\"]\n",
    "# restaurant_data_2 = pd.DataFrame(critical_violations_count)\n",
    "restaurant_data_2 = rest\n",
    "restaurant_data_2 = restaurant_data_2.reset_index()\n",
    "restaurant_data_2 = restaurant_data_2.sort_values(by = [\"CRITICAL FLAG\"], ascending = False)\n",
    "restaurant_data_2 = restaurant_data_2.drop_duplicates([\"CAMIS\"])\n",
    "# len(restaurant_data_2)\n",
    "\n",
    "# restaurant_data_2 = restaurant_data_1.sort_values(by= ,ascending = False)\n",
    "# restaurant_data_2 = restaurant_data_2.drop_duplicates([\"CAMIS\"])\n",
    "\n",
    "# restaurant_data_3 = pd.merge(restaurant_data_1,restaurant_data_2, on = \"CAMIS\")\n",
    "# restaurant_data_3 = restaurant_data_3.drop_duplicates([\"CAMIS\"])\n",
    "# restaurant_data_3 = \n",
    "\n",
    "restaurant_data_2\n"
   ]
  },
  {
   "cell_type": "code",
   "execution_count": null,
   "metadata": {},
   "outputs": [],
   "source": []
  },
  {
   "cell_type": "code",
   "execution_count": null,
   "metadata": {},
   "outputs": [],
   "source": []
  },
  {
   "cell_type": "code",
   "execution_count": null,
   "metadata": {},
   "outputs": [],
   "source": []
  }
 ],
 "metadata": {
  "kernelspec": {
   "display_name": "Python 3",
   "language": "python",
   "name": "python3"
  },
  "language_info": {
   "codemirror_mode": {
    "name": "ipython",
    "version": 3
   },
   "file_extension": ".py",
   "mimetype": "text/x-python",
   "name": "python",
   "nbconvert_exporter": "python",
   "pygments_lexer": "ipython3",
   "version": "3.7.3"
  }
 },
 "nbformat": 4,
 "nbformat_minor": 2
}
