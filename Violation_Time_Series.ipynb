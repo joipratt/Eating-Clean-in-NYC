{
 "cells": [
  {
   "cell_type": "code",
   "execution_count": 14,
   "metadata": {},
   "outputs": [],
   "source": [
    "import pandas as pd\n",
    "import matplotlib.pyplot as plt"
   ]
  },
  {
   "cell_type": "code",
   "execution_count": 2,
   "metadata": {},
   "outputs": [
    {
     "data": {
      "text/plain": [
       "array(['Critical', 'Not Critical', 'Not Applicable'], dtype=object)"
      ]
     },
     "execution_count": 2,
     "metadata": {},
     "output_type": "execute_result"
    }
   ],
   "source": [
    "# import restaurant violation raw data set\n",
    "\n",
    "violations_df = pd.read_csv(\"Dept_of_Health/DOHMH_New_York_City_Restaurant_Inspection_Results.csv\")\n",
    "violations_df[\"CRITICAL FLAG\"].unique()"
   ]
  },
  {
   "cell_type": "code",
   "execution_count": 3,
   "metadata": {},
   "outputs": [
    {
     "data": {
      "text/plain": [
       "array([2015, 2014, 2016, 2017, 2013, 1900, 2012, 2011], dtype=int64)"
      ]
     },
     "execution_count": 3,
     "metadata": {},
     "output_type": "execute_result"
    }
   ],
   "source": [
    "# clean data frame so that it is easier to work with\n",
    "\n",
    "violations_df = violations_df[[\"INSPECTION DATE\",\"CRITICAL FLAG\"]]\n",
    "violations_df[\"year\"] = pd.DatetimeIndex(violations_df[\"INSPECTION DATE\"]).year\n",
    "violations_df[\"year\"].unique()"
   ]
  },
  {
   "cell_type": "code",
   "execution_count": 4,
   "metadata": {},
   "outputs": [],
   "source": [
    "# drop years that didn't make sense \n",
    "\n",
    "violations_df = violations_df.loc[violations_df[\"year\"] != 1900,:]\n",
    "violations_df = violations_df.loc[violations_df[\"year\"] != 2011,:]\n",
    "violations_df = violations_df.loc[violations_df[\"year\"] != 2012,:]"
   ]
  },
  {
   "cell_type": "code",
   "execution_count": 61,
   "metadata": {},
   "outputs": [
    {
     "data": {
      "text/html": [
       "<div>\n",
       "<style scoped>\n",
       "    .dataframe tbody tr th:only-of-type {\n",
       "        vertical-align: middle;\n",
       "    }\n",
       "\n",
       "    .dataframe tbody tr th {\n",
       "        vertical-align: top;\n",
       "    }\n",
       "\n",
       "    .dataframe thead th {\n",
       "        text-align: right;\n",
       "    }\n",
       "</style>\n",
       "<table border=\"1\" class=\"dataframe\">\n",
       "  <thead>\n",
       "    <tr style=\"text-align: right;\">\n",
       "      <th></th>\n",
       "      <th>INSPECTION DATE critical</th>\n",
       "      <th>INSPECTION DATE not_critical</th>\n",
       "      <th>INSPECTION DATE</th>\n",
       "    </tr>\n",
       "    <tr>\n",
       "      <th>year</th>\n",
       "      <th></th>\n",
       "      <th></th>\n",
       "      <th></th>\n",
       "    </tr>\n",
       "  </thead>\n",
       "  <tbody>\n",
       "    <tr>\n",
       "      <th>2013</th>\n",
       "      <td>3078</td>\n",
       "      <td>2484</td>\n",
       "      <td>148</td>\n",
       "    </tr>\n",
       "    <tr>\n",
       "      <th>2014</th>\n",
       "      <td>44238</td>\n",
       "      <td>35257</td>\n",
       "      <td>1489</td>\n",
       "    </tr>\n",
       "    <tr>\n",
       "      <th>2015</th>\n",
       "      <td>64138</td>\n",
       "      <td>51083</td>\n",
       "      <td>1725</td>\n",
       "    </tr>\n",
       "    <tr>\n",
       "      <th>2016</th>\n",
       "      <td>64408</td>\n",
       "      <td>50062</td>\n",
       "      <td>1583</td>\n",
       "    </tr>\n",
       "    <tr>\n",
       "      <th>2017</th>\n",
       "      <td>44215</td>\n",
       "      <td>33967</td>\n",
       "      <td>897</td>\n",
       "    </tr>\n",
       "  </tbody>\n",
       "</table>\n",
       "</div>"
      ],
      "text/plain": [
       "      INSPECTION DATE critical  INSPECTION DATE not_critical  INSPECTION DATE\n",
       "year                                                                         \n",
       "2013                      3078                          2484              148\n",
       "2014                     44238                         35257             1489\n",
       "2015                     64138                         51083             1725\n",
       "2016                     64408                         50062             1583\n",
       "2017                     44215                         33967              897"
      ]
     },
     "execution_count": 61,
     "metadata": {},
     "output_type": "execute_result"
    }
   ],
   "source": [
    "# make \n",
    "\n",
    "critical = violations_df.loc[violations_df[\"CRITICAL FLAG\"] == \"Critical\",:].drop(columns = [\"CRITICAL FLAG\"])\n",
    "not_critical = violations_df.loc[violations_df[\"CRITICAL FLAG\"] == \"Not Critical\",:].drop(columns = [\"CRITICAL FLAG\"])\n",
    "not_applicable = violations_df.loc[violations_df[\"CRITICAL FLAG\"] == \"Not Applicable\",:].drop(columns = [\"CRITICAL FLAG\"])\n",
    "critical = critical.groupby([\"year\"]).count()\n",
    "not_critical = not_critical.groupby([\"year\"]).count()\n",
    "not_applicable = not_applicable.groupby([\"year\"]).count()\n",
    "merge = pd.merge(critical,not_critical,on='year',suffixes=[\" critical\",\" not_critical\"])\n",
    "merge = pd.merge(merge, not_applicable, on='year')\n",
    "merge"
   ]
  },
  {
   "cell_type": "code",
   "execution_count": 65,
   "metadata": {},
   "outputs": [],
   "source": [
    "merge = merge.rename(columns = {\"INSPECTION DATE critical\":\"Critical Violations\",\n",
    "                        \"INSPECTION DATE not_critical\":\"Not Critical Violations\",\n",
    "                        \"INSPECTION DATE\":\"NA Violations\"})\n",
    "x_axis = [\"2013\",\"2014\",\"2015\",\"2016\",\"2017\"]"
   ]
  },
  {
   "cell_type": "code",
   "execution_count": 79,
   "metadata": {},
   "outputs": [
    {
     "data": {
      "image/png": "[encoded data removed]",
      "text/plain": [
       "<Figure size 432x288 with 1 Axes>"
      ]
     },
     "metadata": {
      "needs_background": "light"
     },
     "output_type": "display_data"
    }
   ],
   "source": [
    "plt.plot(x_axis, merge[\"Not Critical Violations\"] + merge[\"Critical Violations\"], color=\"red\", label=\"Total Violations\")\n",
    "plt.plot(x_axis, merge[\"Critical Violations\"], color=\"green\", label=\"Critical Violations\")\n",
    "plt.plot(x_axis, merge[\"Not Critical Violations\"], color=\"blue\", label=\"Not Critical Violations\")\n",
    "plt.grid()\n",
    "plt.title(\"Amount of Violations Over Time\")\n",
    "plt.legend()\n",
    "plt.savefig(\"Violations_Over_Time.png\")"
   ]
  },
  {
   "cell_type": "code",
   "execution_count": null,
   "metadata": {},
   "outputs": [],
   "source": []
  }
 ],
 "metadata": {
  "kernelspec": {
   "display_name": "Python 3",
   "language": "python",
   "name": "python3"
  },
  "language_info": {
   "codemirror_mode": {
    "name": "ipython",
    "version": 3
   },
   "file_extension": ".py",
   "mimetype": "text/x-python",
   "name": "python",
   "nbconvert_exporter": "python",
   "pygments_lexer": "ipython3",
   "version": "3.7.3"
  }
 },
 "nbformat": 4,
 "nbformat_minor": 2
}
